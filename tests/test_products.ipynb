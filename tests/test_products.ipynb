{
 "cells": [
  {
   "cell_type": "code",
   "execution_count": 1,
   "metadata": {
    "collapsed": false
   },
   "outputs": [],
   "source": [
    "# import products module\n",
    "from hirise_tools import products as prod"
   ]
  },
  {
   "cell_type": "code",
   "execution_count": 2,
   "metadata": {
    "collapsed": false
   },
   "outputs": [],
   "source": [
    "# create OBSERVATION_ID product\n",
    "obsid = prod.OBSERVATION_ID('PSP_003072_0985')"
   ]
  },
  {
   "cell_type": "code",
   "execution_count": 3,
   "metadata": {
    "collapsed": false
   },
   "outputs": [
    {
     "data": {
      "text/plain": [
       "'003072'"
      ]
     },
     "execution_count": 3,
     "metadata": {},
     "output_type": "execute_result"
    }
   ],
   "source": [
    "# testing the orbit property\n",
    "obsid.orbit"
   ]
  },
  {
   "cell_type": "code",
   "execution_count": 4,
   "metadata": {
    "collapsed": true
   },
   "outputs": [],
   "source": [
    "# setting orbit property\n",
    "obsid.orbit = 4080"
   ]
  },
  {
   "cell_type": "code",
   "execution_count": 5,
   "metadata": {
    "collapsed": false
   },
   "outputs": [
    {
     "data": {
      "text/plain": [
       "'004080'"
      ]
     },
     "execution_count": 5,
     "metadata": {},
     "output_type": "execute_result"
    }
   ],
   "source": [
    "# checking new orbit value\n",
    "obsid.orbit"
   ]
  },
  {
   "cell_type": "code",
   "execution_count": 6,
   "metadata": {
    "collapsed": false
   },
   "outputs": [
    {
     "data": {
      "text/plain": [
       "PSP_004080_0985"
      ]
     },
     "execution_count": 6,
     "metadata": {},
     "output_type": "execute_result"
    }
   ],
   "source": [
    "# checking value of obsid object\n",
    "obsid"
   ]
  },
  {
   "cell_type": "code",
   "execution_count": 7,
   "metadata": {
    "collapsed": false
   },
   "outputs": [
    {
     "data": {
      "text/plain": [
       "'0985'"
      ]
     },
     "execution_count": 7,
     "metadata": {},
     "output_type": "execute_result"
    }
   ],
   "source": [
    "# checking targetcode property\n",
    "obsid.targetcode"
   ]
  },
  {
   "cell_type": "code",
   "execution_count": 8,
   "metadata": {
    "collapsed": true
   },
   "outputs": [],
   "source": [
    "# settting targetcode property\n",
    "obsid.targetcode = '0980'"
   ]
  },
  {
   "cell_type": "code",
   "execution_count": 9,
   "metadata": {
    "collapsed": false
   },
   "outputs": [
    {
     "data": {
      "text/plain": [
       "'0980'"
      ]
     },
     "execution_count": 9,
     "metadata": {},
     "output_type": "execute_result"
    }
   ],
   "source": [
    "# checking new value of targetcode\n",
    "obsid.targetcode"
   ]
  },
  {
   "cell_type": "code",
   "execution_count": 10,
   "metadata": {
    "collapsed": false
   },
   "outputs": [
    {
     "data": {
      "text/plain": [
       "PSP_004080_0980"
      ]
     },
     "execution_count": 10,
     "metadata": {},
     "output_type": "execute_result"
    }
   ],
   "source": [
    "# checking new value of obsid object\n",
    "obsid"
   ]
  },
  {
   "cell_type": "code",
   "execution_count": 11,
   "metadata": {
    "collapsed": false
   },
   "outputs": [
    {
     "data": {
      "text/plain": [
       "'PSP'"
      ]
     },
     "execution_count": 11,
     "metadata": {},
     "output_type": "execute_result"
    }
   ],
   "source": [
    "obsid.phase"
   ]
  },
  {
   "cell_type": "code",
   "execution_count": 12,
   "metadata": {
    "collapsed": false
   },
   "outputs": [
    {
     "data": {
      "text/plain": [
       "'PSP_004080_0980'"
      ]
     },
     "execution_count": 12,
     "metadata": {},
     "output_type": "execute_result"
    }
   ],
   "source": [
    "obsid.s"
   ]
  },
  {
   "cell_type": "code",
   "execution_count": 13,
   "metadata": {
    "collapsed": false
   },
   "outputs": [
    {
     "data": {
      "text/plain": [
       "'ORB_004000_004099'"
      ]
     },
     "execution_count": 13,
     "metadata": {},
     "output_type": "execute_result"
    }
   ],
   "source": [
    "obsid.get_upper_orbit_folder()"
   ]
  },
  {
   "cell_type": "code",
   "execution_count": 14,
   "metadata": {
    "collapsed": false
   },
   "outputs": [
    {
     "data": {
      "text/plain": [
       "'PSP/ORB_004000_004099/PSP_004080_0980'"
      ]
     },
     "execution_count": 14,
     "metadata": {},
     "output_type": "execute_result"
    }
   ],
   "source": [
    "obsid.storage_path_stem"
   ]
  },
  {
   "cell_type": "code",
   "execution_count": 15,
   "metadata": {
    "collapsed": false
   },
   "outputs": [
    {
     "data": {
      "text/plain": [
       "PSP_003072_0985_None"
      ]
     },
     "execution_count": 15,
     "metadata": {},
     "output_type": "execute_result"
    }
   ],
   "source": [
    "# create PRODUCT_ID\n",
    "prodid = prod.PRODUCT_ID('PSP_003072_0985')\n",
    "prodid"
   ]
  },
  {
   "cell_type": "code",
   "execution_count": 16,
   "metadata": {
    "collapsed": false
   },
   "outputs": [
    {
     "data": {
      "text/plain": [
       "PSP_003072_0985_RED"
      ]
     },
     "execution_count": 16,
     "metadata": {},
     "output_type": "execute_result"
    }
   ],
   "source": [
    "prodid.kind = 'RED'\n",
    "prodid"
   ]
  },
  {
   "cell_type": "code",
   "execution_count": 17,
   "metadata": {
    "collapsed": false
   },
   "outputs": [
    {
     "data": {
      "text/plain": [
       "'PSP_003072_0985_RED'"
      ]
     },
     "execution_count": 17,
     "metadata": {},
     "output_type": "execute_result"
    }
   ],
   "source": [
    "prodid.s"
   ]
  },
  {
   "cell_type": "code",
   "execution_count": 18,
   "metadata": {
    "collapsed": false
   },
   "outputs": [
    {
     "data": {
      "text/plain": [
       "'PSP/ORB_003000_003099/PSP_003072_0985/PSP_003072_0985_RED'"
      ]
     },
     "execution_count": 18,
     "metadata": {},
     "output_type": "execute_result"
    }
   ],
   "source": [
    "prodid.storage_stem"
   ]
  },
  {
   "cell_type": "code",
   "execution_count": 19,
   "metadata": {
    "collapsed": false
   },
   "outputs": [
    {
     "data": {
      "text/plain": [
       "'PSP_003072_0985_RED.LBL'"
      ]
     },
     "execution_count": 19,
     "metadata": {},
     "output_type": "execute_result"
    }
   ],
   "source": [
    "prodid.label_fname"
   ]
  },
  {
   "cell_type": "code",
   "execution_count": 20,
   "metadata": {
    "collapsed": false
   },
   "outputs": [
    {
     "data": {
      "text/plain": [
       "'RDR/PSP/ORB_003000_003099/PSP_003072_0985/PSP_003072_0985_RED.LBL'"
      ]
     },
     "execution_count": 20,
     "metadata": {},
     "output_type": "execute_result"
    }
   ],
   "source": [
    "prodid.label_path"
   ]
  },
  {
   "cell_type": "code",
   "execution_count": 21,
   "metadata": {
    "collapsed": false
   },
   "outputs": [
    {
     "data": {
      "text/plain": [
       "'PSP_003072_0985_RED.JP2'"
      ]
     },
     "execution_count": 21,
     "metadata": {},
     "output_type": "execute_result"
    }
   ],
   "source": [
    "prodid.jp2_fname"
   ]
  },
  {
   "cell_type": "code",
   "execution_count": 22,
   "metadata": {
    "collapsed": false
   },
   "outputs": [
    {
     "data": {
      "text/plain": [
       "'RDR/PSP/ORB_003000_003099/PSP_003072_0985/PSP_003072_0985_RED.JP2'"
      ]
     },
     "execution_count": 22,
     "metadata": {},
     "output_type": "execute_result"
    }
   ],
   "source": [
    "prodid.jp2_path"
   ]
  },
  {
   "cell_type": "code",
   "execution_count": 23,
   "metadata": {
    "collapsed": false,
    "scrolled": false
   },
   "outputs": [
    {
     "name": "stdout",
     "output_type": "stream",
     "text": [
      "_kind :\n",
      "RED\n",
      "\n",
      "abrowse_path :\n",
      "EXTRAS/RDR/PSP/ORB_003000_003099/PSP_003072_0985/PSP_003072_0985_RED.abrowse.jpg\n",
      "\n",
      "browse_path :\n",
      "EXTRAS/RDR/PSP/ORB_003000_003099/PSP_003072_0985/PSP_003072_0985_RED.browse.jpg\n",
      "\n",
      "edr_storage_stem :\n",
      "EDR/PSP/ORB_003000_003099/PSP_003072_0985/PSP_003072_0985_RED\n",
      "\n",
      "from_path :\n",
      "<bound method PRODUCT_ID.from_path of <class 'hirise_tools.products.PRODUCT_ID'>>\n",
      "\n",
      "jp2_fname :\n",
      "PSP_003072_0985_RED.JP2\n",
      "\n",
      "jp2_path :\n",
      "RDR/PSP/ORB_003000_003099/PSP_003072_0985/PSP_003072_0985_RED.JP2\n",
      "\n",
      "kind :\n",
      "RED\n",
      "\n",
      "kinds :\n",
      "['RED', 'BG', 'IR', 'COLOR', 'IRB', 'MIRB', 'MRGB', 'RGB']\n",
      "\n",
      "label_fname :\n",
      "PSP_003072_0985_RED.LBL\n",
      "\n",
      "label_path :\n",
      "RDR/PSP/ORB_003000_003099/PSP_003072_0985/PSP_003072_0985_RED.LBL\n",
      "\n",
      "label_url :\n",
      "http://hirise-pds.lpl.arizona.edu/PDS/RDR/PSP/ORB_003000_003099/PSP_003072_0985/PSP_003072_0985_RED.LBL\n",
      "\n",
      "nomap_browse_path :\n",
      "EXTRAS/RDR/PSP/ORB_003000_003099/PSP_003072_0985/PSP_003072_0985_RED.NOMAP.browse.jpg\n",
      "\n",
      "nomap_jp2_path :\n",
      "RDR/EXTRAS/PSP/ORB_003000_003099/PSP_003072_0985/PSP_003072_0985_RED.NOMAP.JP2\n",
      "\n",
      "nomap_thumbnail_path :\n",
      "EXTRAS/RDR/PSP/ORB_003000_003099/PSP_003072_0985/PSP_003072_0985_RED.NOMAP.thumb.jpg\n",
      "\n",
      "obsid :\n",
      "PSP_003072_0985\n",
      "\n",
      "quicklook_path :\n",
      "EXTRAS/RDR/PSP/ORB_003000_003099/PSP_003072_0985/PSP_003072_0985_RED.QLOOK.JP2\n",
      "\n",
      "s :\n",
      "PSP_003072_0985_RED\n",
      "\n",
      "storage_stem :\n",
      "PSP/ORB_003000_003099/PSP_003072_0985/PSP_003072_0985_RED\n",
      "\n",
      "thumbnail_path :\n",
      "EXTRAS/RDR/PSP/ORB_003000_003099/PSP_003072_0985/PSP_003072_0985_RED.thumb.jpg\n",
      "\n"
     ]
    }
   ],
   "source": [
    "for item in dir(prodid):\n",
    "    if not item.startswith('__'):\n",
    "        print(item,':')\n",
    "        print(getattr(prodid, item))\n",
    "        print()"
   ]
  },
  {
   "cell_type": "code",
   "execution_count": 24,
   "metadata": {
    "collapsed": false
   },
   "outputs": [
    {
     "data": {
      "text/plain": [
       "PSP_003092_0985_RED4_0"
      ]
     },
     "execution_count": 24,
     "metadata": {},
     "output_type": "execute_result"
    }
   ],
   "source": [
    "spid = prod.SOURCE_PRODUCT_ID('PSP_003092_0985_RED4_0')\n",
    "spid"
   ]
  },
  {
   "cell_type": "code",
   "execution_count": 25,
   "metadata": {
    "collapsed": false
   },
   "outputs": [
    {
     "name": "stdout",
     "output_type": "stream",
     "text": [
      "_ccd :\n",
      "RED4\n",
      "\n",
      "_channel :\n",
      "0\n",
      "\n",
      "_parse_ccd :\n",
      "<bound method SOURCE_PRODUCT_ID._parse_ccd of PSP_003092_0985_RED4_0>\n",
      "\n",
      "bg_ccds :\n",
      "['BG12', 'BG13']\n",
      "\n",
      "ccd :\n",
      "RED4\n",
      "\n",
      "ccdno :\n",
      "4\n",
      "\n",
      "ccds :\n",
      "['RED0', 'RED1', 'RED2', 'RED3', 'RED4', 'RED5', 'RED6', 'RED7', 'RED8', 'RED9', 'IR10', 'IR11', 'BG12', 'BG13']\n",
      "\n",
      "channel :\n",
      "0\n",
      "\n",
      "color :\n",
      "RED\n",
      "\n",
      "fname :\n",
      "PSP_003092_0985_RED4_0.IMG\n",
      "\n",
      "fpath :\n",
      "EDR/PSP/ORB_003000_003099/PSP_003092_0985/PSP_003092_0985_RED4_0.IMG\n",
      "\n",
      "furl :\n",
      "http://hirise-pds.lpl.arizona.edu/PDS/EDR/PSP/ORB_003000_003099/PSP_003092_0985/PSP_003092_0985_RED4_0.IMG\n",
      "\n",
      "ir_ccds :\n",
      "['IR10', 'IR11']\n",
      "\n",
      "prodid :\n",
      "PSP_003092_0985_RED\n",
      "\n",
      "red_ccds :\n",
      "['RED0', 'RED1', 'RED2', 'RED3', 'RED4', 'RED5', 'RED6', 'RED7', 'RED8', 'RED9']\n",
      "\n",
      "s :\n",
      "PSP_003092_0985_RED4_0\n",
      "\n"
     ]
    }
   ],
   "source": [
    "for i in dir(spid):\n",
    "    if not i.startswith('__'):\n",
    "        print(i,':')\n",
    "        print(getattr(spid, i))\n",
    "        print()"
   ]
  },
  {
   "cell_type": "markdown",
   "metadata": {},
   "source": [
    "http://hirise-pds.lpl.arizona.edu/PDS/EDR/PSP/ORB_003000_003099/PSP_003092_0985/PSP_003092_0985_RED4_0.IMG"
   ]
  },
  {
   "cell_type": "code",
   "execution_count": 26,
   "metadata": {
    "collapsed": false
   },
   "outputs": [
    {
     "data": {
      "text/plain": [
       "'PSP/ORB_003000_003099/PSP_003092_0985/PSP_003092_0985_RED'"
      ]
     },
     "execution_count": 26,
     "metadata": {},
     "output_type": "execute_result"
    }
   ],
   "source": [
    "spid.prodid.storage_stem"
   ]
  },
  {
   "cell_type": "code",
   "execution_count": 27,
   "metadata": {
    "collapsed": false
   },
   "outputs": [
    {
     "data": {
      "text/plain": [
       "'EDR/PSP/ORB_003000_003099/PSP_003092_0985/PSP_003092_0985_RED'"
      ]
     },
     "execution_count": 27,
     "metadata": {},
     "output_type": "execute_result"
    }
   ],
   "source": [
    "spid.prodid.edr_storage_stem"
   ]
  },
  {
   "cell_type": "code",
   "execution_count": 28,
   "metadata": {
    "collapsed": false
   },
   "outputs": [
    {
     "data": {
      "text/plain": [
       "PosixPath('EDR/PSP/ORB_003000_003099/PSP_003092_0985/PSP_003092_0985_RED4_0.IMG')"
      ]
     },
     "execution_count": 28,
     "metadata": {},
     "output_type": "execute_result"
    }
   ],
   "source": [
    "spid.fpath"
   ]
  },
  {
   "cell_type": "code",
   "execution_count": 29,
   "metadata": {
    "collapsed": false
   },
   "outputs": [
    {
     "data": {
      "text/plain": [
       "'http://hirise-pds.lpl.arizona.edu/PDS/EDR/PSP/ORB_003000_003099/PSP_003092_0985/PSP_003092_0985_RED4_0.IMG'"
      ]
     },
     "execution_count": 29,
     "metadata": {},
     "output_type": "execute_result"
    }
   ],
   "source": [
    "hiurl = prod.HiRISE_URL(spid.fpath)\n",
    "hiurl.url"
   ]
  },
  {
   "cell_type": "code",
   "execution_count": 30,
   "metadata": {
    "collapsed": false
   },
   "outputs": [
    {
     "data": {
      "text/plain": [
       "'/PDS/EDR/PSP/ORB_003000_003099/PSP_003092_0985/PSP_003092_0985_RED4_0.IMG'"
      ]
     },
     "execution_count": 30,
     "metadata": {},
     "output_type": "execute_result"
    }
   ],
   "source": [
    "hiurl.path"
   ]
  },
  {
   "cell_type": "code",
   "execution_count": 31,
   "metadata": {
    "collapsed": false
   },
   "outputs": [
    {
     "data": {
      "text/plain": [
       "'RDR/PSP/ORB_003000_003099/PSP_003072_0985/PSP_003072_0985_RED.LBL'"
      ]
     },
     "execution_count": 31,
     "metadata": {},
     "output_type": "execute_result"
    }
   ],
   "source": [
    "prodid.label_path"
   ]
  },
  {
   "cell_type": "code",
   "execution_count": 32,
   "metadata": {
    "collapsed": false
   },
   "outputs": [
    {
     "data": {
      "text/plain": [
       "'RED'"
      ]
     },
     "execution_count": 32,
     "metadata": {},
     "output_type": "execute_result"
    }
   ],
   "source": [
    "prod.get_color_from_path(prodid.label_path)"
   ]
  },
  {
   "cell_type": "code",
   "execution_count": 34,
   "metadata": {
    "collapsed": false
   },
   "outputs": [
    {
     "data": {
      "text/plain": [
       "PSP_003072_0985"
      ]
     },
     "execution_count": 34,
     "metadata": {},
     "output_type": "execute_result"
    }
   ],
   "source": [
    "prod.get_obsid_from_path(prodid.label_path)"
   ]
  },
  {
   "cell_type": "code",
   "execution_count": 35,
   "metadata": {
    "collapsed": true
   },
   "outputs": [],
   "source": [
    "pid = prod.PRODUCT_ID.from_path(prodid.label_path)"
   ]
  },
  {
   "cell_type": "code",
   "execution_count": 36,
   "metadata": {
    "collapsed": false
   },
   "outputs": [
    {
     "data": {
      "text/plain": [
       "PSP_003072_0985"
      ]
     },
     "execution_count": 36,
     "metadata": {},
     "output_type": "execute_result"
    }
   ],
   "source": [
    "pid.obsid"
   ]
  },
  {
   "cell_type": "code",
   "execution_count": null,
   "metadata": {
    "collapsed": true
   },
   "outputs": [],
   "source": []
  }
 ],
 "metadata": {
  "kernelspec": {
   "display_name": "Python [conda env:stable]",
   "language": "python",
   "name": "conda-env-stable-py"
  },
  "language_info": {
   "codemirror_mode": {
    "name": "ipython",
    "version": 3
   },
   "file_extension": ".py",
   "mimetype": "text/x-python",
   "name": "python",
   "nbconvert_exporter": "python",
   "pygments_lexer": "ipython3",
   "version": "3.5.2"
  }
 },
 "nbformat": 4,
 "nbformat_minor": 1
}
